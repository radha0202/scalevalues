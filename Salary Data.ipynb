{
 "cells": [
  {
   "cell_type": "code",
   "execution_count": 1,
   "id": "319a54b2",
   "metadata": {},
   "outputs": [
    {
     "name": "stdout",
     "output_type": "stream",
     "text": [
      "Original Data:\n",
      "   YearsExperience   Salary\n",
      "0              1.1  39343.0\n",
      "1              1.3  46205.0\n",
      "2              1.5  37731.0\n",
      "3              2.0  43525.0\n",
      "4              2.2  39891.0\n",
      "\n",
      "Scaled Data:\n",
      "   YearsExperience   Salary\n",
      "0        -1.510053  39343.0\n",
      "1        -1.438373  46205.0\n",
      "2        -1.366693  37731.0\n",
      "3        -1.187494  43525.0\n",
      "4        -1.115814  39891.0\n"
     ]
    }
   ],
   "source": [
    "import pandas as pd\n",
    "from sklearn.preprocessing import StandardScaler, LabelEncoder\n",
    "salary_data = pd.read_csv('Salary_Data.csv')\n",
    "print(\"Original Data:\")\n",
    "print(salary_data.head())\n",
    "categorical_columns = salary_data.select_dtypes(include=['object']).columns\n",
    "label_encoders = {}\n",
    "for col in categorical_columns:\n",
    "    label_encoders[col] = LabelEncoder()\n",
    "    salary_data[col] = label_encoders[col].fit_transform(salary_data[col])\n",
    "features = salary_data.drop('Salary', axis=1)\n",
    "scaler = StandardScaler()\n",
    "scaled_features = scaler.fit_transform(features)\n",
    "scaled_features_df = pd.DataFrame(scaled_features, columns=features.columns)\n",
    "scaled_salary_data = pd.concat([scaled_features_df, salary_data['Salary']], axis=1)\n",
    "print(\"\\nScaled Data:\")\n",
    "print(scaled_salary_data.head())"
   ]
  },
  {
   "cell_type": "code",
   "execution_count": null,
   "id": "40980511",
   "metadata": {},
   "outputs": [],
   "source": []
  }
 ],
 "metadata": {
  "kernelspec": {
   "display_name": "Python 3 (ipykernel)",
   "language": "python",
   "name": "python3"
  },
  "language_info": {
   "codemirror_mode": {
    "name": "ipython",
    "version": 3
   },
   "file_extension": ".py",
   "mimetype": "text/x-python",
   "name": "python",
   "nbconvert_exporter": "python",
   "pygments_lexer": "ipython3",
   "version": "3.9.12"
  }
 },
 "nbformat": 4,
 "nbformat_minor": 5
}
